{
 "cells": [
  {
   "cell_type": "markdown",
   "metadata": {},
   "source": [
    "# LD reference data installation script from the 1000 Genomes Project (GRCh37)  \n",
    "\n",
    "This script prepares LD reference panels for each chromosome using the 1000 Genomes Project (GRCh37) data for each ancestry group as follows  \n",
    "- keep SNPs with minor allele frequency > 0.05\n",
    "- keep polymorphic SNPs\n",
    "\n",
    "After filtering, the sciript keeps the filtered .bed file for each ancestry and remove any intermediate files. The script does not remove the original vcf files or plink files. "
   ]
  },
  {
   "cell_type": "code",
   "execution_count": 1,
   "metadata": {},
   "outputs": [
    {
     "name": "stderr",
     "output_type": "stream",
     "text": [
      "\u001b[32m\u001b[1m    Updating\u001b[22m\u001b[39m registry at `~/.julia/registries/General.toml`\n",
      "\u001b[32m\u001b[1m   Resolving\u001b[22m\u001b[39m package versions...\n",
      "\u001b[32m\u001b[1m  No Changes\u001b[22m\u001b[39m to `~/.julia/environments/v1.8/Project.toml`\n",
      "\u001b[32m\u001b[1m  No Changes\u001b[22m\u001b[39m to `~/.julia/environments/v1.8/Manifest.toml`\n"
     ]
    }
   ],
   "source": [
    "using Pkg\n",
    "Pkg.add([\"Downloads\", \"SnpArrays\", \"CSV\", \"DataFrames\", \"Glob\"])"
   ]
  },
  {
   "cell_type": "code",
   "execution_count": 2,
   "metadata": {},
   "outputs": [],
   "source": [
    "using Downloads, SnpArrays, CSV, DataFrames, Glob"
   ]
  },
  {
   "cell_type": "code",
   "execution_count": 3,
   "metadata": {},
   "outputs": [
    {
     "data": {
      "text/plain": [
       "\"data\""
      ]
     },
     "execution_count": 3,
     "metadata": {},
     "output_type": "execute_result"
    }
   ],
   "source": [
    "isdir(\"data\") || mkdir(\"data\")"
   ]
  },
  {
   "cell_type": "markdown",
   "metadata": {},
   "source": [
    "# Preparing filtered .bed files for each ancestry group"
   ]
  },
  {
   "cell_type": "markdown",
   "metadata": {},
   "source": [
    "## Download sample metadata"
   ]
  },
  {
   "cell_type": "code",
   "execution_count": 4,
   "metadata": {},
   "outputs": [
    {
     "data": {
      "text/plain": [
       "\"data/integrated_call_samples_v3.20130502.ALL.panel\""
      ]
     },
     "execution_count": 4,
     "metadata": {},
     "output_type": "execute_result"
    }
   ],
   "source": [
    "# Download sample metadata\n",
    "beagle = \"https://bochet.gcc.biostat.washington.edu/beagle/1000_Genomes_phase3_v5a\"\n",
    "url = joinpath(beagle, \"sample_info/integrated_call_samples_v3.20130502.ALL.panel\")\n",
    "meta = last(split(url, \"/\")) \n",
    "isfile(\"data/$(meta)\") || Downloads.download(url, \"data/$(meta)\")"
   ]
  },
  {
   "cell_type": "code",
   "execution_count": 5,
   "metadata": {},
   "outputs": [
    {
     "data": {
      "text/html": [
       "<div class=\"data-frame\"><p>3 rows × 4 columns</p><table class=\"data-frame\"><thead><tr><th></th><th>sample</th><th>pop</th><th>super_pop</th><th>gender</th></tr><tr><th></th><th title=\"String7\">String7</th><th title=\"String3\">String3</th><th title=\"String3\">String3</th><th title=\"String7\">String7</th></tr></thead><tbody><tr><th>1</th><td>HG00096</td><td>GBR</td><td>EUR</td><td>male</td></tr><tr><th>2</th><td>HG00097</td><td>GBR</td><td>EUR</td><td>female</td></tr><tr><th>3</th><td>HG00099</td><td>GBR</td><td>EUR</td><td>female</td></tr></tbody></table></div>"
      ],
      "text/latex": [
       "\\begin{tabular}{r|cccc}\n",
       "\t& sample & pop & super\\_pop & gender\\\\\n",
       "\t\\hline\n",
       "\t& String7 & String3 & String3 & String7\\\\\n",
       "\t\\hline\n",
       "\t1 & HG00096 & GBR & EUR & male \\\\\n",
       "\t2 & HG00097 & GBR & EUR & female \\\\\n",
       "\t3 & HG00099 & GBR & EUR & female \\\\\n",
       "\\end{tabular}\n"
      ],
      "text/plain": [
       "\u001b[1m3×4 DataFrame\u001b[0m\n",
       "\u001b[1m Row \u001b[0m│\u001b[1m sample  \u001b[0m\u001b[1m pop     \u001b[0m\u001b[1m super_pop \u001b[0m\u001b[1m gender  \u001b[0m\n",
       "\u001b[1m     \u001b[0m│\u001b[90m String7 \u001b[0m\u001b[90m String3 \u001b[0m\u001b[90m String3   \u001b[0m\u001b[90m String7 \u001b[0m\n",
       "─────┼──────────────────────────────────────\n",
       "   1 │ HG00096  GBR      EUR        male\n",
       "   2 │ HG00097  GBR      EUR        female\n",
       "   3 │ HG00099  GBR      EUR        female"
      ]
     },
     "execution_count": 5,
     "metadata": {},
     "output_type": "execute_result"
    }
   ],
   "source": [
    "meta = CSV.read(\"data/integrated_call_samples_v3.20130502.ALL.panel\", DataFrame, header=false, skipto = 2)\n",
    "rename!(meta, [:sample, :pop, :super_pop, :gender])\n",
    "first(meta, 3)"
   ]
  },
  {
   "cell_type": "markdown",
   "metadata": {
    "tags": []
   },
   "source": [
    "## Download 1KG vcf file and convert to plink and subset to EUR, mac > 1, maf > 0.05  "
   ]
  },
  {
   "cell_type": "code",
   "execution_count": null,
   "metadata": {},
   "outputs": [],
   "source": [
    "ancestries = [\"AFR\", \"AMR\", \"EAS\", \"EUR\", \"SAS\"]\n",
    "dir = \"/u/project/gandalm/shared/refGenomes/1000genomes/chrs\"\n",
    "\n",
    "for chr in 1:23\n",
    "    chr == 23 ? chr = \"X\" : chr\n",
    "\n",
    "    println(\"################################\")\n",
    "    println(\"####### processing chr$(chr) #######\")\n",
    "    println(\"################################\")\n",
    "    \n",
    "       \n",
    "    #### the original kgp ####\n",
    "    basefile = \"kgp.clean.chr$(chr)\"\n",
    "    kgp_original = SnpData(\"$(dir)/$(basefile)\")\n",
    "    size_kgp_original = size(kgp_original) # to be used to compare before/after the filtering\n",
    "    \n",
    "    \n",
    "    #### processing for each ancestry group ####\n",
    "    for ancestry in ancestries\n",
    "        if isfile(\"$(basefile).$(ancestry).maf005.mac1.bed\")\n",
    "            println(\"$(basefile).$(ancestry).maf005.mac1.bed exists; skip\")\n",
    "            continue\n",
    "        end    \n",
    "        \n",
    "        rm_files = []\n",
    "        kgp = kgp_original\n",
    "        \n",
    "        #### Subset to the current ancestry samples ####\n",
    "        println(\" \")\n",
    "        println(\"### subsetting to $(ancestry) samples ###\")\n",
    "        println(\"sample size ref: AFR 661, AMR 347, EAS 504, EUR 503, SAS 489\")\n",
    "        ancestry_data = meta.sample[meta.super_pop .== \"$(ancestry)\"]\n",
    "        rowinds = findall(in(ancestry_data), kgp.person_info.iid)\n",
    "\n",
    "        file = \"$(basefile).$(ancestry)\"\n",
    "        SnpArrays.filter(kgp, rowinds, trues(size(kgp)[2]); des = \"data/$(file)\")\n",
    "        println(\" \")\n",
    "        \n",
    "        \n",
    "\n",
    "        #### get colinds: maf > 0.05 ####\n",
    "        println(\"filtering SNPs with maf > 0.05\")\n",
    "        kgp = SnpData(\"data/$(file)\") # the current ancestry samples: $(basefile).$(ancestry)\n",
    "        println(\"dim for $(ancestry) file (before maf > 0.05)\")\n",
    "        println(size(kgp))\n",
    "\n",
    "        file = \"$(basefile).$(ancestry).maf005\"\n",
    "        colinds = SnpArrays.filter(kgp.snparray; min_maf = 0.05)[2]\n",
    "        SnpArrays.filter(kgp, trues(size(kgp)[1]), colinds; des = \"data/$(file)\")   \n",
    "\n",
    "        kgp = SnpData(\"data/$(file)\") # current ancestry samples with maf > 0.05: $(basefile).$(ancestry).maf005\n",
    "        println(\"dim for $(ancestry) file (after maf > 0.05)\")\n",
    "        println(size(kgp))\n",
    "        println(\" \")\n",
    "\n",
    "\n",
    "      \n",
    "        #### get colinds: MAC > 1 ####\n",
    "        println(\"filtering SNPs with mac > 1\")\n",
    "        \n",
    "        # count matrix reference: https://openmendel.github.io/SnpArrays.jl/latest/#Counts\n",
    "        cnt = counts(kgp.snparray, dims = 1)\n",
    "\n",
    "        # removes all samples fall into one genotype, or all samples' genotype is missing\n",
    "        colinds = Int[]\n",
    "        for j in 1:size(kgp)[2]\n",
    "            size(kgp)[1] in cnt[:,j] ? nothing : push!(colinds, j)\n",
    "        end\n",
    "\n",
    "        snps_num_mac1 = length(colinds)\n",
    "        println(\"number of SNPs with mac > 1 (will be kept): $(snps_num_mac1)\")\n",
    "        \n",
    "        # for each column, check if any of the rows have all samples\n",
    "        # ref. AFR 661, AMR 347, EAS 504, EUR 503, SAS 489\n",
    "        # if none of the rows == above ancestry sample size in the column, the column will be kept\n",
    "        file = \"$(basefile).$(ancestry).maf005.mac1\"\n",
    "        SnpArrays.filter(kgp, trues(size(kgp)[1]), colinds; des = \"data/$(file)\")\n",
    "        \n",
    "        \n",
    "        kgp_filtered = SnpData(\"data/$(basefile).$(ancestry).maf005.mac1\")\n",
    "        size_kgp_filtered = size(kgp_filtered)\n",
    "        println(\"dim for $(ancestry) file (after maf > 0.05, mac > 1)\")\n",
    "        println(size_kgp_filtered)\n",
    "        println(\"cf: sample size ref - AFR 661, AMR 347, EAS 504, EUR 503, SAS 489\")\n",
    "        println(\"cf: dim original - $(size_kgp_original)\")\n",
    "        println(\" \")\n",
    "\n",
    "        println(kgp_filtered)\n",
    "        println(\" \")\n",
    "        println(\" \")\n",
    "\n",
    "\n",
    "        #### clean up the directory; removing unncessesary ancestry files ####       \n",
    "        rm_file_list = filter(x -> !occursin(r\"mac\", x), glob(\"$(basefile).$(ancestry)*\", \"data\"))\n",
    "        for file in rm_file_list\n",
    "            rm_files = push!(rm_files, file)\n",
    "        end\n",
    "        rm_files = push!(rm_files, \"data/$(basefile).$(ancestry).maf005.mac1.fam\")\n",
    "        rm_files = push!(rm_files, \"data/$(basefile).$(ancestry).maf005.mac1.bim\")\n",
    "\n",
    "        println(\"files to be removed: \")        \n",
    "        println(length(rm_files))\n",
    "        println(rm_files)        \n",
    "\n",
    "        for file in rm_files\n",
    "            rm(file)\n",
    "        end\n",
    "        println(\" \")\n",
    "        println(\" \")\n",
    "    end\n",
    "    \n",
    "    println(\"all ancestries were processed for chr$(chr)\")\n",
    "    println(\" \")\n",
    "    println(\" \")\n",
    "end        "
   ]
  }
 ],
 "metadata": {
  "kernelspec": {
   "display_name": "Julia 1.8.1",
   "language": "julia",
   "name": "julia-1.8"
  },
  "language_info": {
   "file_extension": ".jl",
   "mimetype": "application/julia",
   "name": "julia",
   "version": "1.8.1"
  }
 },
 "nbformat": 4,
 "nbformat_minor": 4
}
